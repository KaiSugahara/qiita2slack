{
 "cells": [
  {
   "cell_type": "code",
   "execution_count": null,
   "id": "9b0dc25e-c954-4662-a5cd-cc9524fddbe4",
   "metadata": {
    "tags": []
   },
   "outputs": [],
   "source": [
    "import pandas as pd\n",
    "import numpy as np\n",
    "import requests\n",
    "import sqlite3\n",
    "from sklearn.metrics.pairwise import cosine_similarity"
   ]
  },
  {
   "cell_type": "code",
   "execution_count": null,
   "id": "abc5bbce-716f-4afb-9fe6-3771dcf53b1e",
   "metadata": {
    "tags": []
   },
   "outputs": [],
   "source": [
    "\"\"\"\n",
    "    READ\n",
    "\"\"\"\n",
    "\n",
    "with sqlite3.connect('qiita_data.db') as con:\n",
    "    df_attribute = pd.read_sql_query(\"SELECT id, title, url FROM PAGE_ATTRIBUTE\", con=con).set_index(\"id\")\n",
    "    df_embedding = pd.read_sql_query(\"SELECT * FROM TITLE_EMBEDDING\", con=con).set_index(\"id\")"
   ]
  },
  {
   "cell_type": "code",
   "execution_count": null,
   "id": "0c4cda3d-92ba-4722-800d-1bd71e125f6d",
   "metadata": {
    "tags": []
   },
   "outputs": [],
   "source": [
    "\"\"\"\n",
    "    対象単語の埋め込みを抽出\n",
    "\"\"\"\n",
    "\n",
    "target_word = \"Docker\"\n",
    "\n",
    "target_embedding = requests.post('http://fasttext-vector-api:80/', json=[target_word])\n",
    "target_embedding = np.array(list(target_embedding.json().values()))\n",
    "target_embedding = target_embedding.mean(axis=0).reshape(1, -1)\n",
    "target_embedding"
   ]
  },
  {
   "cell_type": "code",
   "execution_count": null,
   "id": "cccec8b6-548e-4578-943e-be96631c6a7b",
   "metadata": {
    "tags": []
   },
   "outputs": [],
   "source": [
    "\"\"\"\n",
    "    タイトルと単語のコサイン類似度\n",
    "\"\"\"\n",
    "\n",
    "cos_sim = cosine_similarity(target_embedding, df_embedding.to_numpy())[0]\n",
    "\n",
    "\"\"\"\n",
    "    類似度Top10の属性情報を抽出\n",
    "\"\"\"\n",
    "\n",
    "TopK_indices = np.argsort(-cos_sim)[:10]\n",
    "TopK_ids = df_attribute.iloc[TopK_indices].index\n",
    "TopK_attributes = df_attribute.loc[TopK_ids]\n",
    "list(TopK_attributes.T.to_dict().values())"
   ]
  }
 ],
 "metadata": {
  "kernelspec": {
   "display_name": "Python 3 (ipykernel)",
   "language": "python",
   "name": "python3"
  },
  "language_info": {
   "codemirror_mode": {
    "name": "ipython",
    "version": 3
   },
   "file_extension": ".py",
   "mimetype": "text/x-python",
   "name": "python",
   "nbconvert_exporter": "python",
   "pygments_lexer": "ipython3",
   "version": "3.10.6"
  }
 },
 "nbformat": 4,
 "nbformat_minor": 5
}
