{
 "cells": [
  {
   "cell_type": "code",
   "execution_count": null,
   "id": "ccea8b54-37eb-4146-bcc3-eb6a6ec4f3b0",
   "metadata": {
    "tags": []
   },
   "outputs": [],
   "source": [
    "import pandas as pd\n",
    "import sqlite3"
   ]
  },
  {
   "cell_type": "code",
   "execution_count": null,
   "id": "35fcbc67-8e9d-4f9d-b9cc-aaa6b455537d",
   "metadata": {
    "tags": []
   },
   "outputs": [],
   "source": [
    "con = sqlite3.connect('../build/db/qiita.db')"
   ]
  },
  {
   "cell_type": "code",
   "execution_count": null,
   "id": "79817e4a-9a95-4ae6-92a8-f47fad02f35c",
   "metadata": {
    "tags": []
   },
   "outputs": [],
   "source": [
    "pd.read_sql_query(\"PRAGMA table_info('PAGE_ATTRIBUTE')\", con=con)"
   ]
  },
  {
   "cell_type": "code",
   "execution_count": null,
   "id": "9da39deb-7584-429c-b03b-acc4cd228f0f",
   "metadata": {
    "tags": []
   },
   "outputs": [],
   "source": [
    "pd.read_sql_query(\"SELECT * FROM PAGE_ATTRIBUTE\", con=con)"
   ]
  },
  {
   "cell_type": "code",
   "execution_count": null,
   "id": "1b444a1c-6707-4130-a16b-60436c25b51f",
   "metadata": {
    "tags": []
   },
   "outputs": [],
   "source": [
    "pd.read_sql_query(\"PRAGMA table_info('TITLE_EMBEDDING')\", con=con)"
   ]
  },
  {
   "cell_type": "code",
   "execution_count": null,
   "id": "29410a54-77ba-4a88-b736-cd5e3f72388a",
   "metadata": {
    "tags": []
   },
   "outputs": [],
   "source": [
    "pd.read_sql_query(\"SELECT * FROM TITLE_EMBEDDING\", con=con)"
   ]
  }
 ],
 "metadata": {
  "kernelspec": {
   "display_name": "Python 3 (ipykernel)",
   "language": "python",
   "name": "python3"
  },
  "language_info": {
   "codemirror_mode": {
    "name": "ipython",
    "version": 3
   },
   "file_extension": ".py",
   "mimetype": "text/x-python",
   "name": "python",
   "nbconvert_exporter": "python",
   "pygments_lexer": "ipython3",
   "version": "3.10.6"
  }
 },
 "nbformat": 4,
 "nbformat_minor": 5
}
