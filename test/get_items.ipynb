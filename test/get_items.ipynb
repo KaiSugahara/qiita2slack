{
 "cells": [
  {
   "cell_type": "code",
   "execution_count": null,
   "id": "138714ff-1f77-41d5-9213-4cc143d06014",
   "metadata": {
    "tags": []
   },
   "outputs": [],
   "source": [
    "import requests\n",
    "import pandas as pd\n",
    "import datetime\n",
    "import sqlite3\n",
    "import itertools\n",
    "import time\n",
    "import emoji\n",
    "\n",
    "from utils import extract_words"
   ]
  },
  {
   "cell_type": "code",
   "execution_count": null,
   "id": "d21744f9-7deb-48b2-9c29-8b4fcfb46c16",
   "metadata": {
    "tags": []
   },
   "outputs": [],
   "source": [
    "time_now = datetime.datetime.now(tz=datetime.timezone(datetime.timedelta(hours=9)))\n",
    "print(time_now, \"開始\")"
   ]
  },
  {
   "cell_type": "code",
   "execution_count": null,
   "id": "34c39beb-bb22-4cda-a5aa-f1bdfe2fb0df",
   "metadata": {
    "tags": []
   },
   "outputs": [],
   "source": [
    "\"\"\"\n",
    "    データベースの初期化\n",
    "\"\"\"\n",
    "\n",
    "with sqlite3.connect('qiita_data.db') as con:\n",
    "    \n",
    "    cur = con.cursor()\n",
    "    \n",
    "    if cur.execute(\"SELECT COUNT(*) FROM sqlite_master WHERE TYPE='table' AND name='PAGE_ATTRIBUTE'\").fetchone()[0] == 0:\n",
    "        cur = con.cursor()\n",
    "        cur.execute(\"CREATE TABLE PAGE_ATTRIBUTE(id TEXT PRIMARY KEY, title TEXT, url TEXT, created_at INT)\")"
   ]
  },
  {
   "cell_type": "code",
   "execution_count": null,
   "id": "215dff59-c6c7-41fc-be1a-379312e808fc",
   "metadata": {
    "scrolled": true,
    "tags": []
   },
   "outputs": [],
   "source": [
    "\"\"\"\n",
    "    過去100ページ分（1ページあたり50件）の記事を取得\n",
    "\"\"\"\n",
    "\n",
    "token = \"1b1049910bdd487d1876fc80618390ae8ae32e5b\"\n",
    "\n",
    "def get_qiita_dataframe(page=1):\n",
    "    \n",
    "    \"\"\"\n",
    "        func: \n",
    "            - Qiitaから50件（$pageページ目）の記事を取得\n",
    "        args:\n",
    "            - page: ページ番号\n",
    "        returns:\n",
    "            - None\n",
    "    \"\"\"\n",
    "\n",
    "    headers = {\n",
    "        \"Authorization\": f\"Bearer {token}\",\n",
    "    }\n",
    "    response = requests.get(f\"https://qiita.com/api/v2/items?page={page}&per_page=50\", headers=headers)\n",
    "    \n",
    "    # ステータス確認\n",
    "    if response.status_code != 200:\n",
    "        return False\n",
    "    \n",
    "    # JSONで受け取る\n",
    "    response = response.json()\n",
    "    \n",
    "    # DataFrameに変換\n",
    "    df = pd.DataFrame(response)[[\"id\", \"title\", \"url\", \"created_at\"]]\n",
    "    df[\"created_at\"] = pd.to_datetime(df[\"created_at\"]).map(pd.Timestamp.timestamp).astype(int) # 作成日時をタイムスタンプに変換\n",
    "    \n",
    "    # SQLite3に保存\n",
    "    with sqlite3.connect('qiita_data.db') as con:\n",
    "\n",
    "        # dfのうち，既存のidを検索\n",
    "        cur = con.cursor()\n",
    "        query = f\"SELECT id FROM PAGE_ATTRIBUTE WHERE id in (%s)\" % (\",\".join([\"?\"] * df.shape[0]))\n",
    "        exist_ids = list(itertools.chain.from_iterable(cur.execute(query, tuple(df[\"id\"])).fetchall()))\n",
    "        \n",
    "        # 既存の記事は除外\n",
    "        df = df[~df[\"id\"].isin(exist_ids)].copy()\n",
    "\n",
    "        # 挿入\n",
    "        df.to_sql(\n",
    "            name = 'PAGE_ATTRIBUTE',\n",
    "            con = con,\n",
    "            if_exists='append',\n",
    "            index = False,\n",
    "            method = 'multi',\n",
    "        )\n",
    "        \n",
    "    return True\n",
    "        \n",
    "for page in range(1, 101):\n",
    "    print(get_qiita_dataframe(page=page))"
   ]
  },
  {
   "cell_type": "code",
   "execution_count": null,
   "id": "30cc62d1-d2b5-4017-ba33-b42268277bb6",
   "metadata": {
    "tags": []
   },
   "outputs": [],
   "source": [
    "\"\"\"\n",
    "    タイトルを埋め込みに変換\n",
    "\"\"\"\n",
    "\n",
    "with sqlite3.connect('qiita_data.db') as con:\n",
    "    \n",
    "    # 3日前のタイムスタンプ\n",
    "    timestamp_three_days_ago = int(time.time()) - (60 * 60 * 24 * 3)\n",
    "    \n",
    "    # 3日前までの記事一覧を抽出\n",
    "    df_articles = pd.read_sql_query(\n",
    "        f\"SELECT id, title FROM PAGE_ATTRIBUTE WHERE created_at > {timestamp_three_days_ago}\",\n",
    "        con=con\n",
    "    )\n",
    "    \n",
    "# タイトルから名詞を抽出\n",
    "text_list = df_articles[\"title\"]\n",
    "text_list = [extract_words(text) for text in text_list]\n",
    "\n",
    "# ID×単語 の頻度行列を生成\n",
    "df_count = [pd.Series(1, index=word_list).groupby(level=0).sum() for word_list in text_list]\n",
    "df_count = pd.concat(df_count, axis=1).T.fillna(0)\n",
    "df_count.index = df_articles[\"id\"]\n",
    "\n",
    "# 数字のみの単語は削除\n",
    "df_count = df_count.loc[:, ~df_count.columns.str.match(\"^\\d+$\")]\n",
    "\n",
    "# アルファベットは小文字に変換\n",
    "df_count.columns = df_count.columns.str.lower()\n",
    "\n",
    "# 絵文字は削除\n",
    "df_count = df_count.loc[:, ~df_count.columns.map(emoji.is_emoji)]\n",
    "\n",
    "# 重複した単語は集約\n",
    "df_count = df_count.groupby(level=0, axis=1).sum()\n",
    "\n",
    "# 単語をソート\n",
    "df_count = df_count[df_count.columns.sort_values()]\n",
    "\n",
    "# 正規化\n",
    "df_count = (df_count.T / df_count.sum(axis=1)).T.fillna(0)\n",
    "\n",
    "# 単語の埋め込み行列を生成\n",
    "df_words_embed = requests.post('http://fasttext-vector-api:80/', json=df_count.columns.to_list())\n",
    "df_words_embed = pd.DataFrame(df_words_embed.json()).T\n",
    "\n",
    "# タイトルの埋め込み行列を生成\n",
    "df_title_embed = df_count.dot(df_words_embed)\n",
    "\n",
    "# SQLite3に保存\n",
    "with sqlite3.connect('qiita_data.db') as con:\n",
    "\n",
    "    # 挿入\n",
    "    df_title_embed.to_sql(\n",
    "        name = 'TITLE_EMBEDDING',\n",
    "        con = con,\n",
    "        if_exists='replace',\n",
    "        index = True,\n",
    "        method = 'multi',\n",
    "        dtype={\n",
    "            \"id\": \"TEXT PRIMARY KEY\",\n",
    "        },\n",
    "    )"
   ]
  },
  {
   "cell_type": "markdown",
   "id": "b74c55cb-99ff-435e-84fc-60bc4defa9d6",
   "metadata": {},
   "source": [
    "## 検証"
   ]
  },
  {
   "cell_type": "code",
   "execution_count": null,
   "id": "32d8c270-ac59-494c-a0ba-86e552414f54",
   "metadata": {
    "tags": []
   },
   "outputs": [],
   "source": [
    "con = sqlite3.connect('qiita_data.db')\n",
    "pd.read_sql_query(\"PRAGMA table_info('PAGE_ATTRIBUTE')\", con=con)"
   ]
  },
  {
   "cell_type": "code",
   "execution_count": null,
   "id": "c890272c-a6dd-4a3b-8872-7ce110fb584c",
   "metadata": {
    "tags": []
   },
   "outputs": [],
   "source": [
    "con = sqlite3.connect('qiita_data.db')\n",
    "pd.read_sql_query(\"SELECT * FROM PAGE_ATTRIBUTE\", con=con)"
   ]
  },
  {
   "cell_type": "code",
   "execution_count": null,
   "id": "515bdf84-0a4f-463c-abe5-1660bfadf95b",
   "metadata": {
    "tags": []
   },
   "outputs": [],
   "source": [
    "con = sqlite3.connect('qiita_data.db')\n",
    "pd.read_sql_query(\"PRAGMA table_info('TITLE_EMBEDDING')\", con=con)"
   ]
  },
  {
   "cell_type": "code",
   "execution_count": null,
   "id": "f694c4e0-d009-4ca9-8e8b-5b0dff8081cd",
   "metadata": {
    "tags": []
   },
   "outputs": [],
   "source": [
    "con = sqlite3.connect('qiita_data.db')\n",
    "pd.read_sql_query(\"SELECT * FROM TITLE_EMBEDDING\", con=con)"
   ]
  }
 ],
 "metadata": {
  "kernelspec": {
   "display_name": "Python 3 (ipykernel)",
   "language": "python",
   "name": "python3"
  },
  "language_info": {
   "codemirror_mode": {
    "name": "ipython",
    "version": 3
   },
   "file_extension": ".py",
   "mimetype": "text/x-python",
   "name": "python",
   "nbconvert_exporter": "python",
   "pygments_lexer": "ipython3",
   "version": "3.10.6"
  }
 },
 "nbformat": 4,
 "nbformat_minor": 5
}
